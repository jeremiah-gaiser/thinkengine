{
 "cells": [
  {
   "cell_type": "code",
   "execution_count": 1,
   "id": "0a2f34cb-ac31-4fea-96cf-7c1df887ef85",
   "metadata": {},
   "outputs": [],
   "source": [
    "import json "
   ]
  },
  {
   "cell_type": "code",
   "execution_count": null,
   "id": "585e1949-a2bb-4136-804e-823de53ae172",
   "metadata": {},
   "outputs": [],
   "source": [
    "with open('', 'r') as myfile:\n",
    "    data=myfile.read()"
   ]
  }
 ],
 "metadata": {
  "kernelspec": {
   "display_name": "Python 3 (ipykernel)",
   "language": "python",
   "name": "python3"
  },
  "language_info": {
   "codemirror_mode": {
    "name": "ipython",
    "version": 3
   },
   "file_extension": ".py",
   "mimetype": "text/x-python",
   "name": "python",
   "nbconvert_exporter": "python",
   "pygments_lexer": "ipython3",
   "version": "3.11.6"
  }
 },
 "nbformat": 4,
 "nbformat_minor": 5
}
